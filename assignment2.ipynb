{
  "cells": [
    {
      "cell_type": "markdown",
      "id": "13ad028b-72b7-43ed-aa78-96fd4e518040",
      "metadata": {
        "id": "13ad028b-72b7-43ed-aa78-96fd4e518040"
      },
      "source": [
        "# Assignment: Data Wrangling and Exploratory Data Analysis\n",
        "## Do Q1 and Q2, and one other question."
      ]
    },
    {
      "cell_type": "code",
      "source": [
        "! git clone https://www.github.com/DS3001/wrangling"
      ],
      "metadata": {
        "id": "Tx1NGTyzeRr_",
        "outputId": "73ecf813-ff98-4587-b714-168fd571a70a",
        "colab": {
          "base_uri": "https://localhost:8080/"
        }
      },
      "id": "Tx1NGTyzeRr_",
      "execution_count": null,
      "outputs": [
        {
          "output_type": "stream",
          "name": "stdout",
          "text": [
            "Cloning into 'wrangling'...\n",
            "warning: redirecting to https://github.com/DS3001/wrangling.git/\n",
            "remote: Enumerating objects: 36, done.\u001b[K\n",
            "remote: Counting objects: 100% (15/15), done.\u001b[K\n",
            "remote: Compressing objects: 100% (10/10), done.\u001b[K\n",
            "remote: Total 36 (delta 13), reused 5 (delta 5), pack-reused 21\u001b[K\n",
            "Receiving objects: 100% (36/36), 2.39 MiB | 16.43 MiB/s, done.\n",
            "Resolving deltas: 100% (15/15), done.\n"
          ]
        }
      ]
    },
    {
      "cell_type": "markdown",
      "id": "5735a4d4-8be8-433a-a351-70eb8002e632",
      "metadata": {
        "id": "5735a4d4-8be8-433a-a351-70eb8002e632"
      },
      "source": [
        "**Q1.** Open the \"tidy_data.pdf\" document in the repo, which is a paper called Tidy Data by Hadley Wickham.\n",
        "\n",
        "  1. Read the abstract. What is this paper about?\n",
        "  2. Read the introduction. What is the \"tidy data standard\" intended to accomplish?\n",
        "  3. Read the intro to section 2. What does this sentence mean: \"Like families, tidy datasets are all alike but every messy dataset is messy in its own way.\" What does this sentence mean: \"For a given dataset, it’s usually easy to figure out what are observations and what are variables, but it is surprisingly difficult to precisely define variables and observations in general.\"\n",
        "  4. Read Section 2.2. How does Wickham define values, variables, and observations?\n",
        "  5. How is \"Tidy Data\" defined in section 2.3?\n",
        "  6. Read the intro to Section 3 and Section 3.1. What are the 5 most common problems with messy datasets? Why are the data in Table 4 messy? What is \"melting\" a dataset?\n",
        "  7. Why, specifically, is table 11 messy but table 12 tidy and \"molten\"?\n",
        "  8. Read Section 6. What is the \"chicken-and-egg\" problem with focusing on tidy data? What does Wickham hope happens in the future with further work on the subject of data wrangling?"
      ]
    },
    {
      "cell_type": "markdown",
      "source": [
        "1. The paper seems to be about why datasets should be tidied and the structure to approach doing so. In addition, the paper will introduce specific tools to help with the tidying process.\n",
        "2. The tidy data standard is meant to accomplish a more efficient way of cleaning data by standardizing the process. This will include a way to look through and analyze the data so that the process in creating the data analysis tools will be easier.\n",
        "3. The first sentence is meant to portray the difference between tidy and messy datasets--in a way, it's expanding upon the \"tidy data standard.\" The first sentence is explaining that tidy data are similar because they've been cleaned in a \"standardized\" way that makes data analysis easier. Messy dataset is messy in its own way because we can never predict which areas of the dataset will need to be cleaned. The second sentence is stating that what we see in the labels of each column for datasets may not actually fully portray its signifance within the dataset. The examples they give are that labels could be seen as an observation or variable, but within the actual data set, may not be what it seems and actually has a different \"definition\". This is just showing the importance of understanding the context of the dataset in order to fully gauge the meaning of the variables and observations.\n",
        "4. Wickham defines values as either quantitative (numbers) or qualitative (words/strings) data that can be sorted into variables or observations. Variables will describe the same trait regarding different subjects, so the example provided by Wickham is height, temperature, or duration. Observations, on the other hand, describes a single subject but the multiple traits that describe it. An example would be the observations that could be made regarding a person.\n",
        "5. Tidy data is defined as a way \"of mapping the meaning of a dataset to its structure\" which is defining the way in which the data is formatted in order to be analyzed. Tidy data, specifically, is defined so that a variable will form a column while an observation will form a row. In addition, each type of observational unit will form a table. There is one type of tidy data since it standardizes a way of formatting the dataset so that it can be more efficiently utilized by a person or language.\n",
        "6. The 5 most common problems with mess datasets are that column headers are values, not variables names, multiple variables being stored in one column, variables stored in both rows and columns, multiple types of observational units in the same table, and a single observational unit is stored in multiple tables. For table 4, it's messy because both rows and columns are composed of variables and the column headers don't have a name but have values instead. In order to fix this, we need to \"melt\" the data which means to switch the columns to rows. This means we can fix the problem of having both rows and columns as variables and having column headers that are values.\n",
        "7. Table 11 is messy for a few reason. The first is that there is a lot of empty space throughout which were ommitted in Table 12. The melting part comes from creating column headers of id, year, month, and element. From there, tmax and tmin needed to be roated in order for them to be column headers rather than within the \"element\" column.\n",
        "Overall, table 12 is tidy and \"molten\" because it's the cleaned version of table 11.\n",
        "8. The chicken-and-egg problem relates to the paradoxical situation where the structure of the data and the tools that are created to be most efficient with the structure are interdepedent. Wickham hopes that in the future, we are able to use methodologies from other fields, such as user-testing, ethnography, and talk-aloud protocols, to improve the cognitive side and efficacy of tools for data analysis."
      ],
      "metadata": {
        "id": "GvdjzgqlFCy5"
      },
      "id": "GvdjzgqlFCy5"
    },
    {
      "cell_type": "markdown",
      "id": "da879ea7-8aac-48a3-b6c2-daea56d2e072",
      "metadata": {
        "id": "da879ea7-8aac-48a3-b6c2-daea56d2e072"
      },
      "source": [
        "**Q2.** This question provides some practice cleaning variables which have common problems.\n",
        "1. Numeric variable: For `./data/airbnb_NYC.csv`, clean the `Price` variable as well as you can, and explain the choices you make. How many missing values do you end up with? (Hint: What happens to the formatting when a price goes over 999 dollars, say from 675 to 1,112?)\n",
        "2. Categorical variable: For the `./data/sharks.csv` data covered in the lecture, clean the \"Type\" variable as well as you can, and explain the choices you make.\n",
        "3. Dummy variable: For the pretrial data covered in the lecture, clean the `WhetherDefendantWasReleasedPretrial` variable as well as you can, and, in particular, replace missing values with `np.nan`.\n",
        "4. Missing values, not at random: For the pretrial data covered in the lecture, clean the `ImposedSentenceAllChargeInContactEvent` variable as well as you can, and explain the choices you make. (Hint: Look at the `SentenceTypeAllChargesAtConvictionInContactEvent` variable.)"
      ]
    },
    {
      "cell_type": "markdown",
      "source": [
        "1. I began by first reformatting all of the values under Price so that none of the numbers had commas in them. This was done with the replace function. From there, after getting the description of values, I saw that the type was an object which meant we wanted to coerce the data to be numeric, or a float, which was utilized with the code shown to us in class, specifically by using pd.to_numeric function. Even though I checked for missing values by utilizing the imputation strategy that was given to us in class, the dataset didn't seem to have any missing values under Price. Just to check that, I used the Excel sheet and sorted the price column to check if there were any missing values, which there wasn't.\n",
        "2. For the categorical variable, after using the unique function to check what types of variable names were under the type column, I saw that there were a few variables that could be consolidated into one. Specifically, boat, boatomg, and boating could all fit under watercraft. At first I was going to keep it as boating and watercraft, but felt that watercrafts was an umbrella term for boating. In addition, the actual raw data had descriptions of both watercrafts and boating accidents that had similar descriptions related to boats, so I combined them under one name. After that, unverified and under investigation both seemed to fit under unconfirmed, so I lumped them together. After that, I noticed that there was also \"nan\" which meant there was missing data, so I created a dummy value called \"Unknown\" that describes the missing data.\n",
        "3. I checked to see how many missing values, and there wasn't any. I then checked the types of variable and referenced the code book and noticed that the three types were 9, 0, and 1, but the codebook only described 0 and 1 as relevant variables. I changed the 9 into \"nan.\"\n",
        "4. Looking at the sentenceType variable, the missing values from the other variable correspond to 4 and 9 from the sentencetype variable. From there, I took a look at the codebook to see the definitions of 4 and 9 and categorized them as other and unknown. From there, I created a list of indexes for where the values of 4 and 9 were in the sentenceType column, respectively, and used that list of index to run through the imposed variable and change the respective 4 or 9 into the name. Then I checked to make sure there wasn't any more missing variables and also checked to make sure \"unknown\" and \"other\" were correctly replaced by using the unique function."
      ],
      "metadata": {
        "id": "Vnc7_gg_Iuwl"
      },
      "id": "Vnc7_gg_Iuwl"
    },
    {
      "cell_type": "code",
      "source": [
        "! git clone https://github.com/yango4014/assignment2"
      ],
      "metadata": {
        "id": "-KnY03RD0_Ly",
        "outputId": "2ef30060-bbaa-4733-b391-9fe4182a22d3",
        "colab": {
          "base_uri": "https://localhost:8080/"
        }
      },
      "id": "-KnY03RD0_Ly",
      "execution_count": 2,
      "outputs": [
        {
          "output_type": "stream",
          "name": "stdout",
          "text": [
            "Cloning into 'assignment2'...\n",
            "remote: Enumerating objects: 23, done.\u001b[K\n",
            "remote: Counting objects: 100% (10/10), done.\u001b[K\n",
            "remote: Compressing objects: 100% (8/8), done.\u001b[K\n",
            "remote: Total 23 (delta 4), reused 4 (delta 2), pack-reused 13\u001b[K\n",
            "Receiving objects: 100% (23/23), 5.17 MiB | 9.97 MiB/s, done.\n",
            "Resolving deltas: 100% (4/4), done.\n"
          ]
        }
      ]
    },
    {
      "cell_type": "code",
      "source": [
        "import pandas as pd\n",
        "df=pd.read_csv('assignment2/data/airbnb_NYC.csv', encoding=\"latin1\")\n",
        "var = 'Price'\n",
        "df['Price']=df['Price'].str.replace(\",\", \"\") #reformat the numbers that have commas in them\n",
        "#print(df.loc[263, \"Price\"])\n",
        "print('Before coercion: \\n', df[var].describe(),'\\n')\n",
        "df[var] = pd.to_numeric(df[var], errors='coerce') # Coerce the variable to numeric\n",
        "df[var+'_nan'] = df[var].isnull() # Equals 1 if missing, 0 if non-null\n",
        "print('After coercion: \\n', df[var].describe(),'\\n') # Describe the numeric variable\n",
        "print('Total Missings: \\n', sum(df[var+'_nan']),'\\n') # How many missing values are there?\n"
      ],
      "metadata": {
        "id": "UOWnC0JI0QEi",
        "outputId": "6b2c001b-a717-4a7c-a136-abbe1c453da2",
        "colab": {
          "base_uri": "https://localhost:8080/"
        }
      },
      "id": "UOWnC0JI0QEi",
      "execution_count": null,
      "outputs": [
        {
          "output_type": "stream",
          "name": "stdout",
          "text": [
            "Before coercion: \n",
            " count     30478\n",
            "unique      511\n",
            "top         150\n",
            "freq       1481\n",
            "Name: Price, dtype: object \n",
            "\n",
            "After coercion: \n",
            " count    30478.000000\n",
            "mean       163.589737\n",
            "std        197.785454\n",
            "min         10.000000\n",
            "25%         80.000000\n",
            "50%        125.000000\n",
            "75%        195.000000\n",
            "max      10000.000000\n",
            "Name: Price, dtype: float64 \n",
            "\n",
            "Total Missings: \n",
            " 0 \n",
            "\n"
          ]
        }
      ]
    },
    {
      "cell_type": "code",
      "source": [
        "import pandas as pd\n",
        "import numpy as np\n",
        "\n",
        "df=pd.read_csv('assignment2/data/sharks.csv', encoding=\"latin1\")\n",
        "var = 'Type'\n",
        "df[var] = df[var].replace('Boatomg','Watercraft')\n",
        "df[var] = df[var].replace('Boat','Watercraft')\n",
        "df[var] = df[var].replace('Boating','Watercraft')\n",
        "df[var] = df[var].replace('Unverified','Unconfirmed')\n",
        "df[var] = df[var].replace('Under investigation','Unconfirmed')\n",
        "df[var] = df[var].replace(np.nan,'Unknown')\n",
        "print(df[var].unique(), '\\n') # A Categorical Example\n",
        "print(df[var].value_counts(), '\\n')"
      ],
      "metadata": {
        "id": "VIjZbuDfKDT5",
        "outputId": "889cf961-2877-4e2e-e619-11fb59d00936",
        "colab": {
          "base_uri": "https://localhost:8080/"
        }
      },
      "id": "VIjZbuDfKDT5",
      "execution_count": 3,
      "outputs": [
        {
          "output_type": "stream",
          "name": "stdout",
          "text": [
            "['Unprovoked' 'Provoked' 'Questionable' 'Watercraft' 'Unconfirmed'\n",
            " 'Unverified' 'Invalid' 'Under investigation' 'Sea Disaster' 'Unknown'] \n",
            "\n",
            "Unprovoked             4716\n",
            "Provoked                593\n",
            "Invalid                 552\n",
            "Watercraft              344\n",
            "Sea Disaster            239\n",
            "Questionable             10\n",
            "Unknown                   5\n",
            "Unconfirmed               1\n",
            "Unverified                1\n",
            "Under investigation       1\n",
            "Name: Type, dtype: int64 \n",
            "\n"
          ]
        },
        {
          "output_type": "stream",
          "name": "stderr",
          "text": [
            "<ipython-input-3-55c026145150>:4: DtypeWarning: Columns (10,17,18,19,20,21,24) have mixed types. Specify dtype option on import or set low_memory=False.\n",
            "  df=pd.read_csv('assignment2/data/sharks.csv', encoding=\"latin1\")\n"
          ]
        }
      ]
    },
    {
      "cell_type": "code",
      "source": [
        "import pandas as pd\n",
        "import numpy as np\n",
        "url = 'http://www.vcsc.virginia.gov/pretrialdataproject/October%202017%20Cohort_Virginia%20Pretrial%20Data%20Project_Deidentified%20FINAL%20Update_10272021.csv'\n",
        "df = pd.read_csv(url, low_memory = False)\n",
        "var = 'WhetherDefendantWasReleasedPretrial'\n",
        "df[var+'_nan'] = df[var].isnull()\n",
        "print('Total Missings: \\n', sum(df[var+'_nan']),'\\n')\n",
        "print(df[var].unique(), '\\n')\n",
        "df[var] = df[var].replace(9, np.nan)\n",
        "print(df[var].unique(), \"\\n\")\n",
        "df[var+'_nan'] = df[var].isnull()\n",
        "print('Total Missings: \\n', sum(df[var+'_nan']),'\\n')\n",
        "\n"
      ],
      "metadata": {
        "id": "li4n0r6bfQxB",
        "outputId": "e0b45b5a-dd05-4b18-86d4-aa87f6c768a4",
        "colab": {
          "base_uri": "https://localhost:8080/"
        }
      },
      "id": "li4n0r6bfQxB",
      "execution_count": 23,
      "outputs": [
        {
          "output_type": "stream",
          "name": "stdout",
          "text": [
            "Total Missings: \n",
            " 0 \n",
            "\n",
            "[9 0 1] \n",
            "\n",
            "[nan  0.  1.] \n",
            "\n",
            "Total Missings: \n",
            " 31 \n",
            "\n"
          ]
        }
      ]
    },
    {
      "cell_type": "code",
      "source": [
        "import pandas as pd\n",
        "import numpy as np\n",
        "url = 'http://www.vcsc.virginia.gov/pretrialdataproject/October%202017%20Cohort_Virginia%20Pretrial%20Data%20Project_Deidentified%20FINAL%20Update_10272021.csv'\n",
        "#df = pd.read_csv(url, low_memory = False)\n",
        "var = 'ImposedSentenceAllChargeInContactEvent'\n",
        "var2 = 'SentenceTypeAllChargesAtConvictionInContactEvent'\n",
        "cellsWith9 = []\n",
        "cellsWith4 = []\n",
        "for index, value in enumerate(df[var2]):\n",
        "  if value == 9:\n",
        "    cellsWith9.append(index) #create a list that indexes the cells from var2 with 9\n",
        "  if value == 4:\n",
        "    cellsWith4.append(index)\n",
        "\n",
        "for i, index in enumerate(cellsWith9):\n",
        "  df.loc[index, var] = \"Unknown\"\n",
        "\n",
        "for i, index in enumerate(cellsWith4):\n",
        "  df.loc[index, var] = \"Other\"\n",
        "\n",
        "print(df[var].unique(), \"\\n\")\n",
        "df[var+'_nan'] = df[var].isnull()\n",
        "print('Total Missings: \\n', sum(df[var+'_nan']),'\\n')"
      ],
      "metadata": {
        "id": "BPM7gsXlF7YR",
        "outputId": "7c8213ab-b835-4a67-e667-4f221bd75ae6",
        "colab": {
          "base_uri": "https://localhost:8080/"
        }
      },
      "id": "BPM7gsXlF7YR",
      "execution_count": 36,
      "outputs": [
        {
          "output_type": "stream",
          "name": "stdout",
          "text": [
            "['Unknown' '60' '12' '.985626283367556' 'Other' '36' '6' '24'\n",
            " '5.91375770020534' '120' '72' '11.9917864476386' '0' '2.95687885010267'\n",
            " '84' '108' '300' '240' '180' '4' '96' '2' '54' '.328542094455852' '44'\n",
            " '5' '115' '132' '48' '258' '34' '76' '.164271047227926'\n",
            " '.131416837782341' '111' '9' '3' '1.97125256673511' '36.9856262833676'\n",
            " '.0657084188911704' '35.4928131416838' '106.492813141684' '8' '35'\n",
            " '18.3141683778234' '480' '32' '93' '234' '732' '1.16427104722793'\n",
            " '4.6570841889117' '21' '7' '4.49281314168378' '18' '600'\n",
            " '43.1642710472279' '179' '52' '30' '20' '192' '702' '14' '55' '53'\n",
            " '11.9055441478439' '114' '35.0061601642711' '68' '.657084188911704'\n",
            " '46.6242299794661' '102' '65' '200' '57' '24.3285420944559'\n",
            " '12.1642710472279' '117' '81.4928131416838' '22.4928131416838' '1980'\n",
            " '3.6570841889117' '56' '10' '2.79260780287474' '1' '47' '22' '1500' '40'\n",
            " '284' '11' '118' '42' '162' '156' '47.2956878850103' '105' '51' '246'\n",
            " '29' '75' '324' '360' '34.4804928131417' '120.328542094456'\n",
            " '59.9260780287474' '66' '59.9917864476386' '660' '51.1642710472279'\n",
            " '14.9568788501027' '3.98562628336756' '78' '228' '1.47843942505133' '62'\n",
            " '4.8' '86' '168' '23' '33' '48.0328542094456' '720' '348' '1200' '27'\n",
            " '49' '87' '420' '63' '79.9260780287474' '57.0349075975359'\n",
            " '49.9712525667351' '59.4928131416838' '17' '238.492813141684'\n",
            " '60.9856262833676' '126' '45' '158' '216' '227' '42.9568788501027' '445'\n",
            " '70.952772073922' '516' '177.82135523614' '1752' '90' '1080' '141'\n",
            " '4.82956878850103' '230' '31' '2208' '52.5133470225873' '69' '26'\n",
            " '33.4928131416838' '140' '131' '344' '219' '101' '71' '59' '58'\n",
            " '120.197125256674' '67' '35.4004106776181' '3.28542094455852'\n",
            " '40.1642710472279' '91' '1.7741273100616' '155' '34.4928131416838' '81'\n",
            " '92.3285420944559' '3.5482546201232' '207' '74' '518' '28'\n",
            " '8.95687885010267' '237' '404.673511293634' '18.1642710472279'\n",
            " '10.7433264887064' '551' '39' '15' '124' '43' '176' '19.4928131416838'\n",
            " '482' '129' '88' '46' '45.8542094455852' '128.628336755647'\n",
            " '136.492813141684' '108.328542094456' '50' '363.663244353183' '288' '250'\n",
            " '107' '81.0225872689938' '444' '205' '10.6570841889117' '19'\n",
            " '66.9856262833676' '38.4928131416838' '264' '276' '173' '222' '144' '294'\n",
            " '336' '431' '450' '73' '99.3285420944559' '128' '30.8069815195072'\n",
            " '31.5256673511294' '127' '202' '55.3285420944559' '89' '242'\n",
            " '1.31416837782341' '1029' '.788501026694045' '194.858316221766' '399'\n",
            " '39.6570841889117' '56.95687885' '198' '120.985626283368'\n",
            " '47.6570841889117' '148' '6.8993839835729' '65.3285420944559'\n",
            " '5.95277207392197' '.0985626283367557' '3.32854209445585'\n",
            " '3.94250513347023' '12.9856262833676' '6.98562628336756'\n",
            " '13.1498973305955' '15.1642710472279' '17.1971252566735'\n",
            " '17.9137577002053' '104' '212' '24.6570841889117' '72.6570841889117'\n",
            " '2.98562628336756' '144.985626283368' '31.9712525667351' '183'\n",
            " '4.98562628336756' '11.8213552361396' '252' '12.394250513347'\n",
            " '42.4928131416838' '10.1642710472279' '11.1642710472279'\n",
            " '5.49281314168378' '59.6632443531827' '12.3285420944559'\n",
            " '48.9856262833676' '240.985626283368' '2.6570841889117' '540'\n",
            " '2.97125256673511' '6.32854209445585' '23.6632443531828'\n",
            " '133.657084188912' '35.3285420944559' '456' '103' '1.72279260780287'\n",
            " '12.6570841889117' '11.6570841889117' '60.3285420944559'\n",
            " '3.78850102669405' '576' '2.13141683778234' '492' '14.9856262833676'\n",
            " '24.9856262833676' '61.9712525667351' '5.6570841889117' '16'\n",
            " '42.1642710472279' '.492813141683778' '138' '13.3141683778234'\n",
            " '11.8932238193018' '5.32854209445585' '95' '62.6570841889117'\n",
            " '3.08829568788501' '11.8275154004107' '1.64271047227926'\n",
            " '47.9917864476386' '4.27104722792608' '8.32854209445585'\n",
            " '3.31416837782341' '70' '77' '1.09856262833676' '48.1642710472279'\n",
            " '27.4928131416838' '6.93839835728953' '1011' '.68993839835729'\n",
            " '1.1170431211499' '1.49281314168378' '4.16427104722793'\n",
            " '1.19712525667351' '4.07392197125257' '188' '11.3285420944559'\n",
            " '.0328542094455852' '432' '11.952772073922' '36.4928131416838'\n",
            " '23.9835728952772' '9.98562628336756' '98' '36.3285420944559' '112'\n",
            " '.394250513347023' '13' '.262833675564682' '13.7987679671458'\n",
            " '5.8870636550308' '354' '5.91991786447639' '24.1642710472279'\n",
            " '62.95687885' '4.59958932238193' '123' '2.32854209445585'\n",
            " '23.9240246406571' '204' '197' '174' '16.1498973305955' '840' '440'\n",
            " '98.95687885' '17.952772073922' '63.9425051334702' '60.1314168377823'\n",
            " '12.1314168377823' '172.952772073922' '.197125256673511'\n",
            " '138.164271047228' '4.92813141683778' '.919917864476386'\n",
            " '18.9856262833676' '6.6570841889117' '2.85420944558522'\n",
            " '8.91375770020534' '146' '12.4928131416838' '.558521560574949'\n",
            " '.722792607802875' '5.82135523613963' '84.9856262833676'\n",
            " '6.16427104722793' '15.9856262833676' '64.5585215605749'\n",
            " '38.299794661191' '11.958932238193' '3.1211498973306' '126.328542094456'\n",
            " '5.16427104722793' '64' '42.6570841889117' '312' '19.9712525667351'\n",
            " '82.3285420944559' '23.9712525667351' '17.6242299794661'\n",
            " '121.971252566735' '59.6550308008214' '1.32854209445585'\n",
            " '7.97125256673511' '1.91991786447639' '.525667351129363'\n",
            " '9.32854209445585' '42.9856262833676' '41.9137577002053'\n",
            " '72.9856262833676' '12.4784394250513' '5.19096509240246' '473'\n",
            " '16.6570841889117' '109' '86.3285420944559' '41' '1.90554414784394'\n",
            " '94.1642710472279' '302' '4.39425051334702' '10.8213552361396'\n",
            " '18.3285420944559' '154' '83' '110.956878850103' '226' '96.0328542094456'\n",
            " '4.82135523613963' '30.3285420944559' '37.9712525667351'\n",
            " '50.4640657084189' '286' '99' '99.4928131416838' '2.6611909650924'\n",
            " '70.9712525667351' '13.9712525667351' '23.6570841889117'\n",
            " '.459958932238193' '132.492813141684' '283' '49.3141683778234'\n",
            " '27.9856262833676' '38' '7.6570841889117' '83.6550308008214'\n",
            " '10.9199178644764' '162.328542094456' '37' '132.328542094456'\n",
            " '35.952772073922' '165' '10.9856262833676' '20.1642710472279'\n",
            " '2.59137577002053' '175' '180.985626283368' '10.3285420944559'\n",
            " '36.1642710472279' '120.657084188912' '232' '152' '8.98562628336756'\n",
            " '167' '11.0657084188912' '11.2032854209446' '5.19712525667351'\n",
            " '3.16427104722793' '60.1642710472279' '1.18275154004107'\n",
            " '21.1642710472279' '2.19712525667351' '4.19712525667351'\n",
            " '2.62833675564682' '119.952772073922' '119.958932238193'\n",
            " '9.49281314168378' '5.25667351129363' '15.3285420944559'\n",
            " '2.82135523613963' '192.985626283368' '48.6570841889117'\n",
            " '5.95687885010267' '2.29979466119097' '960' '2.36550308008214' '116'\n",
            " '19.5133470225873' '1.6570841889117'] \n",
            "\n",
            "Total Missings: \n",
            " 0 \n",
            "\n"
          ]
        }
      ]
    },
    {
      "cell_type": "markdown",
      "id": "c11bcd96-2834-41a4-80fe-d354b4277fd9",
      "metadata": {
        "id": "c11bcd96-2834-41a4-80fe-d354b4277fd9"
      },
      "source": [
        "**Q3.** This question provides some practice doing exploratory data analysis and visualization.\n",
        "\n",
        "The \"relevant\" variables for this question are:\n",
        "  - `level` - Level of institution (4-year, 2-year)\n",
        "  - `aid_value` - The average amount of student aid going to undergraduate recipients\n",
        "  - `control` - Public, Private not-for-profit, Private for-profit\n",
        "  - `grad_100_value` - percentage of first-time, full-time, degree-seeking undergraduates who complete a degree or certificate program within 100 percent of expected time (bachelor's-seeking group at 4-year institutions)\n",
        "\n",
        "1. Load the `./data/college_completion.csv` data with Pandas.\n",
        "2. What are are the dimensions of the data? How many observations are there? What are the variables included? Use `.head()` to examine the first few rows of data.\n",
        "3. Cross tabulate `control` and `level`. Describe the patterns you see.\n",
        "4. For `grad_100_value`, create a histogram, kernel density plot, boxplot, and statistical description.\n",
        "5. For `grad_100_value`, create a grouped kernel density plot by `control` and by `level`. Describe what you see. Use `groupby` and `.describe` to make grouped calculations of statistical descriptions of `grad_100_value` by `level` and `control`. Which institutions appear to have the best graduation rates?\n",
        "6. Create a new variable, `df['levelXcontrol']=df['level']+', '+df['control']` that interacts level and control. Make a grouped kernel density plot. Which institutions appear to have the best graduation rates?\n",
        "7. Make a kernel density plot of `aid_value`. Notice that your graph is \"bi-modal\", having two little peaks that represent locally most common values. Now group your graph by `level` and `control`. What explains the bi-modal nature of the graph? Use `groupby` and `.describe` to make grouped calculations of statistical descriptions of `aid_value` by `level` and `control`.\n",
        "8. Make a scatterplot of `grad_100_value` by `aid_value`. Describe what you see. Now make the same plot, grouping by `level` and then `control`. Describe what you see. For which kinds of institutions does aid seem to increase graduation rates?"
      ]
    },
    {
      "cell_type": "markdown",
      "id": "98d34a3b-c21d-4dc9-a8d2-fb7686804ceb",
      "metadata": {
        "id": "98d34a3b-c21d-4dc9-a8d2-fb7686804ceb"
      },
      "source": [
        "**Q4.** This question uses the Airbnb data to practice making visualizations.\n",
        "\n",
        "  1. Load the `./data/airbnb_NYC.csv` data with Pandas. You should have cleaned the `Price` variable in question 2, and you'll need it later for this question.\n",
        "  2. What are are the dimensions of the data? How many observations are there? What are the variables included? Use `.head()` to examine the first few rows of data.\n",
        "  3. Cross tabulate `Room Type` and `Property Type`. What patterns do you see in what kinds of rentals are available? For which kinds of properties are private rooms more common than renting the entire property?\n",
        "  4. For `Price`, make a histogram, kernel density, box plot, and a statistical description of the variable. Are the data badly scaled? Are there many outliers? Use `log` to transform price into a new variable, `price_log`, and take these steps again.\n",
        "  5. Make a scatterplot of `price_log` and `Beds`. Describe what you see. Use `.groupby()` to compute a desciption of `Price` conditional on/grouped by the number of beds. Describe any patterns you see in the average price and standard deviation in prices.\n",
        "  6. Make a scatterplot of `price_log` and `Beds`, but color the graph by `Room Type` and `Property Type`. What patterns do you see? Compute a description of `Price` conditional on `Room Type` and `Property Type`. Which Room Type and Property Type have the highest prices on average? Which have the highest standard deviation? Does the mean or median appear to be a more reliable estimate of central tendency, and explain why?\n",
        "  7. We've looked a bit at this `price_log` and `Beds` scatterplot. Use seaborn to make a `jointplot` with `kind=hex`. Where are the data actually distributed? How does it affect the way you think about the plots in 5 and 6?"
      ]
    },
    {
      "cell_type": "markdown",
      "id": "649494cd-cfd6-4f80-992a-9994fc19e1d5",
      "metadata": {
        "id": "649494cd-cfd6-4f80-992a-9994fc19e1d5"
      },
      "source": [
        "**Q5.** Many important datasets contain a race variable, typically limited to a handful of values often including Black, White, Asian, Latino, and Indigenous. This question looks at data gathering efforts on this variable by the U.S. Federal government.\n",
        "\n",
        "1. How did the most recent US Census gather data on race?\n",
        "2. Why do we gather these data? What role do these kinds of data play in politics and society? Why does data quality matter?\n",
        "3. Please provide a constructive criticism of how the Census was conducted: What was done well? What do you think was missing? How should future large scale surveys be adjusted to best reflect the diversity of the population? Could some of the Census' good practices be adopted more widely to gather richer and more useful data?\n",
        "4. How did the Census gather data on sex and gender? Please provide a similar constructive criticism of their practices.\n",
        "5. When it comes to cleaning data, what concerns do you have about protected characteristics like sex, gender, sexual identity, or race? What challenges can you imagine arising when there are missing values? What good or bad practices might people adopt, and why?\n",
        "6. Suppose someone invented an algorithm to impute values for protected characteristics like race, gender, sex, or sexuality. What kinds of concerns would you have?"
      ]
    },
    {
      "cell_type": "markdown",
      "id": "2f38f2fd-6381-481d-bba9-017f3d363426",
      "metadata": {
        "id": "2f38f2fd-6381-481d-bba9-017f3d363426"
      },
      "source": [
        "**Q6.** Open the `./data/CBO_data.pdf` file. This contains tax data for 2019, explaining where the money comes from that the U.S. Federal Government Spends in terms of taxation on individuals/families and payroll taxes (the amount that your employer pays in taxes on your wages).\n",
        "\n",
        "For some context, the Federal government ultimately spent about $4.4 trillion in 2019, which was 21% of GDP (the total monetary value of all goods and services produced within the United States). Individual Income Taxes is the amount individuals pay on their wages to the Federal government, Corporate Income Taxes is the taxes individuals pay on capital gains from investment when they sell stock or other financial instruments, Payroll Taxes is the tax your employer pays on your wages, Excises and Customs Duties are taxes on goods or services like sin taxes on cigarettes or alcohol, and Estate and Gift Taxes are taxes paid on transfers of wealth to other people.\n",
        "\n",
        "1. Get the Millions of Families and Billions of Dollars data into a .csv file and load it with Pandas.\n",
        "2. Create a bar plot of individual income taxes by income decile. Explain what the graph shows. Why are some values negative?\n",
        "3. Create a bar plot of Total Federal Taxes by income decile. Which deciles are paying net positive amounts, and which are paying net negative amounts?\n",
        "4. Create a stacked bar plot for which Total Federal Taxes is grouped by Individual Income Taxes, Payroll Taxes, Excises and Customs Duties, and Estate and Gift Taxes. How does the share of taxes paid vary across the adjusted income deciles? (Hint: Are these the kind of data you want to melt?)\n",
        "5. Below the Total line for Millions of Families and Billions of Dollars, there are data for the richest of the richest families. Plot this alongside the bars for the deciles above the Total line. Describe your results.\n",
        "6. Get the Percent Distribution data into a .csv file and load it with Pandas. Create a bar graph of Total Federal Taxes by income decile.\n",
        "7. A tax system is progressive if higher-income and wealthier individuals pay more than lower-income and less wealthy individuals, and it is regressive if the opposite is true. Is the U.S. tax system progressive in terms of amount paid? In terms of the percentage of the overall total?\n",
        "8. Do the rich pay enough in taxes? Defend your answer."
      ]
    }
  ],
  "metadata": {
    "kernelspec": {
      "display_name": "Python 3 (ipykernel)",
      "language": "python",
      "name": "python3"
    },
    "language_info": {
      "codemirror_mode": {
        "name": "ipython",
        "version": 3
      },
      "file_extension": ".py",
      "mimetype": "text/x-python",
      "name": "python",
      "nbconvert_exporter": "python",
      "pygments_lexer": "ipython3",
      "version": "3.10.4"
    },
    "colab": {
      "provenance": []
    }
  },
  "nbformat": 4,
  "nbformat_minor": 5
}